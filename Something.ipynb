{
 "cells": [
  {
   "cell_type": "markdown",
   "id": "d77108c4-c901-4cea-acd7-ea12149ba0f5",
   "metadata": {},
   "source": [
    "# Something Notebook"
   ]
  },
  {
   "cell_type": "markdown",
   "id": "7c9a473a-ea01-4c25-b9fc-af29a21afaef",
   "metadata": {},
   "source": [
    "#### Featuring code by Aidan R., Jackson M., and Brendan L."
   ]
  },
  {
   "cell_type": "code",
   "execution_count": 2,
   "id": "580c11d6-6df7-4213-b105-235b7da0f7f4",
   "metadata": {},
   "outputs": [
    {
     "name": "stdin",
     "output_type": "stream",
     "text": [
      "What's your name?  dootz\n",
      "What's your favorite number?  1\n"
     ]
    },
    {
     "name": "stdout",
     "output_type": "stream",
     "text": [
      "Your name is longer the value of your favorite number!\n"
     ]
    }
   ],
   "source": [
    "name = input(\"What's your name? \")\n",
    "\n",
    "try:\n",
    "    favNum = int(input(\"What's your favorite number? \"))\n",
    "except ValueError:\n",
    "    print(\"Input an INT!\")\n",
    "    exit()\n",
    "\n",
    "def longShort(name, favNum):\n",
    "    if len(name) > favNum:\n",
    "        return \"longer\"\n",
    "    elif len(name) < favNum:\n",
    "        return \"shorter\"\n",
    "    else:\n",
    "        return \"equal in length to\"\n",
    "\n",
    "print(\"Your name is \" + longShort(name, favNum) + \" the value of your favorite number!\")"
   ]
  },
  {
   "cell_type": "code",
   "execution_count": null,
   "id": "61d65424-8852-4f57-ac2b-e757ff8e3803",
   "metadata": {},
   "outputs": [],
   "source": []
  }
 ],
 "metadata": {
  "kernelspec": {
   "display_name": "Python 3 (ipykernel)",
   "language": "python",
   "name": "python3"
  },
  "language_info": {
   "codemirror_mode": {
    "name": "ipython",
    "version": 3
   },
   "file_extension": ".py",
   "mimetype": "text/x-python",
   "name": "python",
   "nbconvert_exporter": "python",
   "pygments_lexer": "ipython3",
   "version": "3.11.13"
  }
 },
 "nbformat": 4,
 "nbformat_minor": 5
}
