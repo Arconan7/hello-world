{
 "cells": [
  {
   "cell_type": "markdown",
   "id": "d77108c4-c901-4cea-acd7-ea12149ba0f5",
   "metadata": {},
   "source": [
    "# Something Notebook"
   ]
  },
  {
   "attachments": {},
   "cell_type": "markdown",
   "id": "65d72785-270d-4563-beb2-e9ca41644fba",
   "metadata": {},
   "source": [
    "#### Featuring code by Aidan R., Jackson _., and Brendan L.\n",
    "\n",
    "name = input(\"What's your name? \")\n",
    "\n",
    "try:\n",
    "    favNum = int(input(\"What's your favorite number? \"))\n",
    "except ValueError:\n",
    "    print(\"Input an INT!\")\n",
    "    exit()\n",
    "\n",
    "def longShort(name, favNum):\n",
    "    if len(name) > favNum:\n",
    "        return \"longer\"\n",
    "    elif len(name) < favNum:\n",
    "        return \"shorter\"\n",
    "    else:\n",
    "        return \"equal in length to\"\n",
    "\n",
    "print(\"Your name is \" + longShort(name, favNum) + \" the value of your favorite number!\")"
   ]
  },
  {
   "cell_type": "code",
   "execution_count": null,
   "id": "c241ef4f-5ad4-4af8-a3c0-35aa42b8eddb",
   "metadata": {},
   "outputs": [],
   "source": []
  }
 ],
 "metadata": {
  "kernelspec": {
   "display_name": "Python 3 (ipykernel)",
   "language": "python",
   "name": "python3"
  },
  "language_info": {
   "codemirror_mode": {
    "name": "ipython",
    "version": 3
   },
   "file_extension": ".py",
   "mimetype": "text/x-python",
   "name": "python",
   "nbconvert_exporter": "python",
   "pygments_lexer": "ipython3",
   "version": "3.11.13"
  }
 },
 "nbformat": 4,
 "nbformat_minor": 5
}
