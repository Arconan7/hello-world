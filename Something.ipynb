{
 "cells": [
  {
   "cell_type": "markdown",
   "id": "d77108c4-c901-4cea-acd7-ea12149ba0f5",
   "metadata": {},
   "source": [
    "# Something Notebook"
   ]
  },
  {
   "cell_type": "markdown",
   "id": "79d92a0d-0cdf-4c1d-a951-11b93daa2f3d",
   "metadata": {},
   "source": [
    "#### Featuring code by Aidan R., Jackson M., and Brendan _."
   ]
  },
  {
   "cell_type": "code",
   "execution_count": 4,
   "id": "a471eb29-85e1-4111-b974-0cea1dbb4c09",
   "metadata": {},
   "outputs": [
    {
     "name": "stdin",
     "output_type": "stream",
     "text": [
      "What's your name? dootz\n",
      "What's your favorite number? 7\n"
     ]
    },
    {
     "name": "stdout",
     "output_type": "stream",
     "text": [
      "Your name is shorter than the value of your favorite number!\n"
     ]
    }
   ],
   "source": [
    "name = input(\"What's your name?\")\n",
    "favNum = int(input(\"What's your favorite number?\"))\n",
    "\n",
    "def longShort():\n",
    "    if len(name) > favNum:\n",
    "        return \"longer\"\n",
    "    if len(name) < favNum:\n",
    "        return \"shorter\"\n",
    "\n",
    "print(\"Your name is \" + longShort() + \" than the value of your favorite number!\")"
   ]
  }
 ],
 "metadata": {
  "kernelspec": {
   "display_name": "Python 3 (ipykernel)",
   "language": "python",
   "name": "python3"
  },
  "language_info": {
   "codemirror_mode": {
    "name": "ipython",
    "version": 3
   },
   "file_extension": ".py",
   "mimetype": "text/x-python",
   "name": "python",
   "nbconvert_exporter": "python",
   "pygments_lexer": "ipython3",
   "version": "3.11.13"
  }
 },
 "nbformat": 4,
 "nbformat_minor": 5
}
